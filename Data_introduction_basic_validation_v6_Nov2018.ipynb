{
 "cells": [
  {
   "cell_type": "markdown",
   "metadata": {},
   "source": [
    "# 数据读取及基础校验"
   ]
  },
  {
   "cell_type": "code",
   "execution_count": 1,
   "metadata": {},
   "outputs": [],
   "source": [
    "import numpy as np\n",
    "import pandas as pd\n",
    "import matplotlib.pyplot as plt\n",
    "import os,sys"
   ]
  },
  {
   "cell_type": "code",
   "execution_count": 2,
   "metadata": {},
   "outputs": [],
   "source": [
    "#1.0 数据导入操作：读取保单、赔款数据集\n",
    "df_pol = pd.read_csv('Data/policy_sample.csv',index_col=False)\n",
    "df_clm = pd.read_csv('Data/claim_sample.csv',index_col=False)"
   ]
  },
  {
   "cell_type": "code",
   "execution_count": 3,
   "metadata": {},
   "outputs": [
    {
     "data": {
      "text/html": [
       "<div>\n",
       "<style scoped>\n",
       "    .dataframe tbody tr th:only-of-type {\n",
       "        vertical-align: middle;\n",
       "    }\n",
       "\n",
       "    .dataframe tbody tr th {\n",
       "        vertical-align: top;\n",
       "    }\n",
       "\n",
       "    .dataframe thead th {\n",
       "        text-align: right;\n",
       "    }\n",
       "</style>\n",
       "<table border=\"1\" class=\"dataframe\">\n",
       "  <thead>\n",
       "    <tr style=\"text-align: right;\">\n",
       "      <th></th>\n",
       "      <th>Unnamed: 0</th>\n",
       "      <th>pol_no</th>\n",
       "      <th>usage_type</th>\n",
       "      <th>coverage</th>\n",
       "      <th>ncd_reason</th>\n",
       "      <th>pol_year</th>\n",
       "      <th>region</th>\n",
       "      <th>gender</th>\n",
       "      <th>insured_age</th>\n",
       "      <th>veh_age_c</th>\n",
       "      <th>...</th>\n",
       "      <th>veh_brand</th>\n",
       "      <th>veh_class</th>\n",
       "      <th>veh_series</th>\n",
       "      <th>veh_price</th>\n",
       "      <th>veh_seat</th>\n",
       "      <th>wr_year</th>\n",
       "      <th>nodc_ind</th>\n",
       "      <th>premium_ori</th>\n",
       "      <th>premium_new</th>\n",
       "      <th>renew_year</th>\n",
       "    </tr>\n",
       "  </thead>\n",
       "  <tbody>\n",
       "    <tr>\n",
       "      <th>0</th>\n",
       "      <td>0</td>\n",
       "      <td>2011OC00001</td>\n",
       "      <td>private</td>\n",
       "      <td>PD</td>\n",
       "      <td>0_F</td>\n",
       "      <td>2011</td>\n",
       "      <td>region_3</td>\n",
       "      <td>F</td>\n",
       "      <td>26.0</td>\n",
       "      <td>VAGEC&lt;0.9</td>\n",
       "      <td>...</td>\n",
       "      <td>TVV6</td>\n",
       "      <td>越野车</td>\n",
       "      <td>TVV6UX</td>\n",
       "      <td>247800</td>\n",
       "      <td>5</td>\n",
       "      <td>1</td>\n",
       "      <td>Y</td>\n",
       "      <td>5640.0324</td>\n",
       "      <td>5543.598552</td>\n",
       "      <td>0</td>\n",
       "    </tr>\n",
       "    <tr>\n",
       "      <th>1</th>\n",
       "      <td>1</td>\n",
       "      <td>2011OC00002</td>\n",
       "      <td>private</td>\n",
       "      <td>PD</td>\n",
       "      <td>0_E</td>\n",
       "      <td>2011</td>\n",
       "      <td>region_3</td>\n",
       "      <td>M</td>\n",
       "      <td>39.0</td>\n",
       "      <td>VAGEC&lt;1.9</td>\n",
       "      <td>...</td>\n",
       "      <td>MIV6</td>\n",
       "      <td>越野车</td>\n",
       "      <td>MIV6UZ</td>\n",
       "      <td>538000</td>\n",
       "      <td>5</td>\n",
       "      <td>1</td>\n",
       "      <td>Y</td>\n",
       "      <td>9654.3144</td>\n",
       "      <td>10738.602922</td>\n",
       "      <td>0</td>\n",
       "    </tr>\n",
       "    <tr>\n",
       "      <th>2</th>\n",
       "      <td>2</td>\n",
       "      <td>2011OA00003</td>\n",
       "      <td>private</td>\n",
       "      <td>PD</td>\n",
       "      <td>1</td>\n",
       "      <td>2011</td>\n",
       "      <td>region_1</td>\n",
       "      <td>M</td>\n",
       "      <td>39.0</td>\n",
       "      <td>VAGEC&lt;4.9</td>\n",
       "      <td>...</td>\n",
       "      <td>MLU6</td>\n",
       "      <td>轿车类</td>\n",
       "      <td>MLU6UW</td>\n",
       "      <td>312000</td>\n",
       "      <td>5</td>\n",
       "      <td>1</td>\n",
       "      <td>Y</td>\n",
       "      <td>6597.7800</td>\n",
       "      <td>7777.834560</td>\n",
       "      <td>2</td>\n",
       "    </tr>\n",
       "    <tr>\n",
       "      <th>3</th>\n",
       "      <td>3</td>\n",
       "      <td>2011ON00004</td>\n",
       "      <td>private</td>\n",
       "      <td>PD</td>\n",
       "      <td>0_F</td>\n",
       "      <td>2011</td>\n",
       "      <td>region_14</td>\n",
       "      <td>M</td>\n",
       "      <td>35.0</td>\n",
       "      <td>VAGEC&lt;0.9</td>\n",
       "      <td>...</td>\n",
       "      <td>VNU6</td>\n",
       "      <td>轿车类</td>\n",
       "      <td>VNU6UY</td>\n",
       "      <td>938000</td>\n",
       "      <td>5</td>\n",
       "      <td>1</td>\n",
       "      <td>Y</td>\n",
       "      <td>19882.4880</td>\n",
       "      <td>19692.205320</td>\n",
       "      <td>0</td>\n",
       "    </tr>\n",
       "    <tr>\n",
       "      <th>4</th>\n",
       "      <td>4</td>\n",
       "      <td>2011OA00005</td>\n",
       "      <td>private</td>\n",
       "      <td>PD</td>\n",
       "      <td>0_D</td>\n",
       "      <td>2011</td>\n",
       "      <td>region_1</td>\n",
       "      <td>M</td>\n",
       "      <td>45.0</td>\n",
       "      <td>VAGEC&lt;4.9</td>\n",
       "      <td>...</td>\n",
       "      <td>VHU7</td>\n",
       "      <td>轿车类</td>\n",
       "      <td>VHU7UW</td>\n",
       "      <td>180700</td>\n",
       "      <td>5</td>\n",
       "      <td>1</td>\n",
       "      <td>Y</td>\n",
       "      <td>3321.3288</td>\n",
       "      <td>2859.032526</td>\n",
       "      <td>3</td>\n",
       "    </tr>\n",
       "  </tbody>\n",
       "</table>\n",
       "<p>5 rows × 22 columns</p>\n",
       "</div>"
      ],
      "text/plain": [
       "   Unnamed: 0       pol_no usage_type coverage ncd_reason  pol_year  \\\n",
       "0           0  2011OC00001    private       PD        0_F      2011   \n",
       "1           1  2011OC00002    private       PD        0_E      2011   \n",
       "2           2  2011OA00003    private       PD          1      2011   \n",
       "3           3  2011ON00004    private       PD        0_F      2011   \n",
       "4           4  2011OA00005    private       PD        0_D      2011   \n",
       "\n",
       "      region gender  insured_age  veh_age_c     ...     veh_brand veh_class  \\\n",
       "0   region_3      F         26.0  VAGEC<0.9     ...          TVV6       越野车   \n",
       "1   region_3      M         39.0  VAGEC<1.9     ...          MIV6       越野车   \n",
       "2   region_1      M         39.0  VAGEC<4.9     ...          MLU6       轿车类   \n",
       "3  region_14      M         35.0  VAGEC<0.9     ...          VNU6       轿车类   \n",
       "4   region_1      M         45.0  VAGEC<4.9     ...          VHU7       轿车类   \n",
       "\n",
       "  veh_series veh_price veh_seat  wr_year  nodc_ind  premium_ori   premium_new  \\\n",
       "0     TVV6UX    247800        5        1         Y    5640.0324   5543.598552   \n",
       "1     MIV6UZ    538000        5        1         Y    9654.3144  10738.602922   \n",
       "2     MLU6UW    312000        5        1         Y    6597.7800   7777.834560   \n",
       "3     VNU6UY    938000        5        1         Y   19882.4880  19692.205320   \n",
       "4     VHU7UW    180700        5        1         Y    3321.3288   2859.032526   \n",
       "\n",
       "   renew_year  \n",
       "0           0  \n",
       "1           0  \n",
       "2           2  \n",
       "3           0  \n",
       "4           3  \n",
       "\n",
       "[5 rows x 22 columns]"
      ]
     },
     "execution_count": 3,
     "metadata": {},
     "output_type": "execute_result"
    }
   ],
   "source": [
    "df_pol.head()"
   ]
  },
  {
   "cell_type": "code",
   "execution_count": 4,
   "metadata": {},
   "outputs": [
    {
     "data": {
      "text/html": [
       "<div>\n",
       "<style scoped>\n",
       "    .dataframe tbody tr th:only-of-type {\n",
       "        vertical-align: middle;\n",
       "    }\n",
       "\n",
       "    .dataframe tbody tr th {\n",
       "        vertical-align: top;\n",
       "    }\n",
       "\n",
       "    .dataframe thead th {\n",
       "        text-align: right;\n",
       "    }\n",
       "</style>\n",
       "<table border=\"1\" class=\"dataframe\">\n",
       "  <thead>\n",
       "    <tr style=\"text-align: right;\">\n",
       "      <th></th>\n",
       "      <th>Unnamed: 0</th>\n",
       "      <th>clmno</th>\n",
       "      <th>pol_year</th>\n",
       "      <th>region</th>\n",
       "      <th>pol_no</th>\n",
       "      <th>usage_type</th>\n",
       "      <th>coverage</th>\n",
       "      <th>ultloss</th>\n",
       "      <th>acc_year</th>\n",
       "    </tr>\n",
       "  </thead>\n",
       "  <tbody>\n",
       "    <tr>\n",
       "      <th>0</th>\n",
       "      <td>0</td>\n",
       "      <td>CLM2011100000008</td>\n",
       "      <td>2011</td>\n",
       "      <td>region_1</td>\n",
       "      <td>2011OA00003</td>\n",
       "      <td>private</td>\n",
       "      <td>PD</td>\n",
       "      <td>2326.435493</td>\n",
       "      <td>2011</td>\n",
       "    </tr>\n",
       "    <tr>\n",
       "      <th>1</th>\n",
       "      <td>1</td>\n",
       "      <td>CLM2011200000006</td>\n",
       "      <td>2011</td>\n",
       "      <td>region_1</td>\n",
       "      <td>2011OA00009</td>\n",
       "      <td>private</td>\n",
       "      <td>PD</td>\n",
       "      <td>1300.631023</td>\n",
       "      <td>2011</td>\n",
       "    </tr>\n",
       "    <tr>\n",
       "      <th>2</th>\n",
       "      <td>2</td>\n",
       "      <td>CLM2011100000028</td>\n",
       "      <td>2011</td>\n",
       "      <td>region_1</td>\n",
       "      <td>2011OA00012</td>\n",
       "      <td>private</td>\n",
       "      <td>PD</td>\n",
       "      <td>2501.326951</td>\n",
       "      <td>2011</td>\n",
       "    </tr>\n",
       "    <tr>\n",
       "      <th>3</th>\n",
       "      <td>3</td>\n",
       "      <td>CLM2011100000110</td>\n",
       "      <td>2011</td>\n",
       "      <td>region_1</td>\n",
       "      <td>2011OA00056</td>\n",
       "      <td>private</td>\n",
       "      <td>PD</td>\n",
       "      <td>4573.544265</td>\n",
       "      <td>2011</td>\n",
       "    </tr>\n",
       "    <tr>\n",
       "      <th>4</th>\n",
       "      <td>4</td>\n",
       "      <td>CLM2011100000127</td>\n",
       "      <td>2011</td>\n",
       "      <td>region_1</td>\n",
       "      <td>2011OA00069</td>\n",
       "      <td>private</td>\n",
       "      <td>PD</td>\n",
       "      <td>6128.496465</td>\n",
       "      <td>2011</td>\n",
       "    </tr>\n",
       "  </tbody>\n",
       "</table>\n",
       "</div>"
      ],
      "text/plain": [
       "   Unnamed: 0             clmno  pol_year    region       pol_no usage_type  \\\n",
       "0           0  CLM2011100000008      2011  region_1  2011OA00003    private   \n",
       "1           1  CLM2011200000006      2011  region_1  2011OA00009    private   \n",
       "2           2  CLM2011100000028      2011  region_1  2011OA00012    private   \n",
       "3           3  CLM2011100000110      2011  region_1  2011OA00056    private   \n",
       "4           4  CLM2011100000127      2011  region_1  2011OA00069    private   \n",
       "\n",
       "  coverage      ultloss  acc_year  \n",
       "0       PD  2326.435493      2011  \n",
       "1       PD  1300.631023      2011  \n",
       "2       PD  2501.326951      2011  \n",
       "3       PD  4573.544265      2011  \n",
       "4       PD  6128.496465      2011  "
      ]
     },
     "execution_count": 4,
     "metadata": {},
     "output_type": "execute_result"
    }
   ],
   "source": [
    "df_clm.head()"
   ]
  },
  {
   "cell_type": "code",
   "execution_count": 5,
   "metadata": {},
   "outputs": [
    {
     "data": {
      "text/plain": [
       "((50000, 22), (29221, 9))"
      ]
     },
     "execution_count": 5,
     "metadata": {},
     "output_type": "execute_result"
    }
   ],
   "source": [
    "df_pol.shape,df_clm.shape"
   ]
  },
  {
   "cell_type": "code",
   "execution_count": 6,
   "metadata": {},
   "outputs": [],
   "source": [
    "#1.1 发现导入的数据中，第一列是原有数据的序号列，没有任何意义，这时可以通过以下方式删除这一列。\n",
    "df_pol.drop('Unnamed: 0',axis=1,inplace=True)\n",
    "df_clm.drop('Unnamed: 0',axis=1,inplace=True)"
   ]
  },
  {
   "cell_type": "code",
   "execution_count": 7,
   "metadata": {},
   "outputs": [
    {
     "data": {
      "text/html": [
       "<div>\n",
       "<style scoped>\n",
       "    .dataframe tbody tr th:only-of-type {\n",
       "        vertical-align: middle;\n",
       "    }\n",
       "\n",
       "    .dataframe tbody tr th {\n",
       "        vertical-align: top;\n",
       "    }\n",
       "\n",
       "    .dataframe thead th {\n",
       "        text-align: right;\n",
       "    }\n",
       "</style>\n",
       "<table border=\"1\" class=\"dataframe\">\n",
       "  <thead>\n",
       "    <tr style=\"text-align: right;\">\n",
       "      <th></th>\n",
       "      <th>pol_no</th>\n",
       "      <th>usage_type</th>\n",
       "      <th>coverage</th>\n",
       "      <th>ncd_reason</th>\n",
       "      <th>pol_year</th>\n",
       "      <th>region</th>\n",
       "      <th>gender</th>\n",
       "      <th>insured_age</th>\n",
       "      <th>veh_age_c</th>\n",
       "      <th>veh_code</th>\n",
       "      <th>...</th>\n",
       "      <th>veh_brand</th>\n",
       "      <th>veh_class</th>\n",
       "      <th>veh_series</th>\n",
       "      <th>veh_price</th>\n",
       "      <th>veh_seat</th>\n",
       "      <th>wr_year</th>\n",
       "      <th>nodc_ind</th>\n",
       "      <th>premium_ori</th>\n",
       "      <th>premium_new</th>\n",
       "      <th>renew_year</th>\n",
       "    </tr>\n",
       "  </thead>\n",
       "  <tbody>\n",
       "    <tr>\n",
       "      <th>0</th>\n",
       "      <td>2011OC00001</td>\n",
       "      <td>private</td>\n",
       "      <td>PD</td>\n",
       "      <td>0_F</td>\n",
       "      <td>2011</td>\n",
       "      <td>region_3</td>\n",
       "      <td>F</td>\n",
       "      <td>26.0</td>\n",
       "      <td>VAGEC&lt;0.9</td>\n",
       "      <td>VTVZTNCX6669</td>\n",
       "      <td>...</td>\n",
       "      <td>TVV6</td>\n",
       "      <td>越野车</td>\n",
       "      <td>TVV6UX</td>\n",
       "      <td>247800</td>\n",
       "      <td>5</td>\n",
       "      <td>1</td>\n",
       "      <td>Y</td>\n",
       "      <td>5640.0324</td>\n",
       "      <td>5543.598552</td>\n",
       "      <td>0</td>\n",
       "    </tr>\n",
       "    <tr>\n",
       "      <th>1</th>\n",
       "      <td>2011OC00002</td>\n",
       "      <td>private</td>\n",
       "      <td>PD</td>\n",
       "      <td>0_E</td>\n",
       "      <td>2011</td>\n",
       "      <td>region_3</td>\n",
       "      <td>M</td>\n",
       "      <td>39.0</td>\n",
       "      <td>VAGEC&lt;1.9</td>\n",
       "      <td>VMIUMCCW6668</td>\n",
       "      <td>...</td>\n",
       "      <td>MIV6</td>\n",
       "      <td>越野车</td>\n",
       "      <td>MIV6UZ</td>\n",
       "      <td>538000</td>\n",
       "      <td>5</td>\n",
       "      <td>1</td>\n",
       "      <td>Y</td>\n",
       "      <td>9654.3144</td>\n",
       "      <td>10738.602922</td>\n",
       "      <td>0</td>\n",
       "    </tr>\n",
       "    <tr>\n",
       "      <th>2</th>\n",
       "      <td>2011OA00003</td>\n",
       "      <td>private</td>\n",
       "      <td>PD</td>\n",
       "      <td>1</td>\n",
       "      <td>2011</td>\n",
       "      <td>region_1</td>\n",
       "      <td>M</td>\n",
       "      <td>39.0</td>\n",
       "      <td>VAGEC&lt;4.9</td>\n",
       "      <td>VMLVYBCW6660</td>\n",
       "      <td>...</td>\n",
       "      <td>MLU6</td>\n",
       "      <td>轿车类</td>\n",
       "      <td>MLU6UW</td>\n",
       "      <td>312000</td>\n",
       "      <td>5</td>\n",
       "      <td>1</td>\n",
       "      <td>Y</td>\n",
       "      <td>6597.7800</td>\n",
       "      <td>7777.834560</td>\n",
       "      <td>2</td>\n",
       "    </tr>\n",
       "    <tr>\n",
       "      <th>3</th>\n",
       "      <td>2011ON00004</td>\n",
       "      <td>private</td>\n",
       "      <td>PD</td>\n",
       "      <td>0_F</td>\n",
       "      <td>2011</td>\n",
       "      <td>region_14</td>\n",
       "      <td>M</td>\n",
       "      <td>35.0</td>\n",
       "      <td>VAGEC&lt;0.9</td>\n",
       "      <td>VVNVRGCX6698</td>\n",
       "      <td>...</td>\n",
       "      <td>VNU6</td>\n",
       "      <td>轿车类</td>\n",
       "      <td>VNU6UY</td>\n",
       "      <td>938000</td>\n",
       "      <td>5</td>\n",
       "      <td>1</td>\n",
       "      <td>Y</td>\n",
       "      <td>19882.4880</td>\n",
       "      <td>19692.205320</td>\n",
       "      <td>0</td>\n",
       "    </tr>\n",
       "    <tr>\n",
       "      <th>4</th>\n",
       "      <td>2011OA00005</td>\n",
       "      <td>private</td>\n",
       "      <td>PD</td>\n",
       "      <td>0_D</td>\n",
       "      <td>2011</td>\n",
       "      <td>region_1</td>\n",
       "      <td>M</td>\n",
       "      <td>45.0</td>\n",
       "      <td>VAGEC&lt;4.9</td>\n",
       "      <td>VXZLEBCV6669</td>\n",
       "      <td>...</td>\n",
       "      <td>VHU7</td>\n",
       "      <td>轿车类</td>\n",
       "      <td>VHU7UW</td>\n",
       "      <td>180700</td>\n",
       "      <td>5</td>\n",
       "      <td>1</td>\n",
       "      <td>Y</td>\n",
       "      <td>3321.3288</td>\n",
       "      <td>2859.032526</td>\n",
       "      <td>3</td>\n",
       "    </tr>\n",
       "  </tbody>\n",
       "</table>\n",
       "<p>5 rows × 21 columns</p>\n",
       "</div>"
      ],
      "text/plain": [
       "        pol_no usage_type coverage ncd_reason  pol_year     region gender  \\\n",
       "0  2011OC00001    private       PD        0_F      2011   region_3      F   \n",
       "1  2011OC00002    private       PD        0_E      2011   region_3      M   \n",
       "2  2011OA00003    private       PD          1      2011   region_1      M   \n",
       "3  2011ON00004    private       PD        0_F      2011  region_14      M   \n",
       "4  2011OA00005    private       PD        0_D      2011   region_1      M   \n",
       "\n",
       "   insured_age  veh_age_c      veh_code     ...     veh_brand veh_class  \\\n",
       "0         26.0  VAGEC<0.9  VTVZTNCX6669     ...          TVV6       越野车   \n",
       "1         39.0  VAGEC<1.9  VMIUMCCW6668     ...          MIV6       越野车   \n",
       "2         39.0  VAGEC<4.9  VMLVYBCW6660     ...          MLU6       轿车类   \n",
       "3         35.0  VAGEC<0.9  VVNVRGCX6698     ...          VNU6       轿车类   \n",
       "4         45.0  VAGEC<4.9  VXZLEBCV6669     ...          VHU7       轿车类   \n",
       "\n",
       "  veh_series veh_price  veh_seat  wr_year  nodc_ind premium_ori   premium_new  \\\n",
       "0     TVV6UX    247800         5        1         Y   5640.0324   5543.598552   \n",
       "1     MIV6UZ    538000         5        1         Y   9654.3144  10738.602922   \n",
       "2     MLU6UW    312000         5        1         Y   6597.7800   7777.834560   \n",
       "3     VNU6UY    938000         5        1         Y  19882.4880  19692.205320   \n",
       "4     VHU7UW    180700         5        1         Y   3321.3288   2859.032526   \n",
       "\n",
       "   renew_year  \n",
       "0           0  \n",
       "1           0  \n",
       "2           2  \n",
       "3           0  \n",
       "4           3  \n",
       "\n",
       "[5 rows x 21 columns]"
      ]
     },
     "execution_count": 7,
     "metadata": {},
     "output_type": "execute_result"
    }
   ],
   "source": [
    "df_pol.head()"
   ]
  },
  {
   "cell_type": "code",
   "execution_count": 8,
   "metadata": {},
   "outputs": [],
   "source": [
    "#1.2 检查两个数据集中的变量及其类型"
   ]
  },
  {
   "cell_type": "code",
   "execution_count": 9,
   "metadata": {},
   "outputs": [
    {
     "data": {
      "text/plain": [
       "pol_no          object\n",
       "usage_type      object\n",
       "coverage        object\n",
       "ncd_reason      object\n",
       "pol_year         int64\n",
       "region          object\n",
       "gender          object\n",
       "insured_age    float64\n",
       "veh_age_c       object\n",
       "veh_code        object\n",
       "import_ind      object\n",
       "veh_brand       object\n",
       "veh_class       object\n",
       "veh_series      object\n",
       "veh_price        int64\n",
       "veh_seat         int64\n",
       "wr_year          int64\n",
       "nodc_ind        object\n",
       "premium_ori    float64\n",
       "premium_new    float64\n",
       "renew_year       int64\n",
       "dtype: object"
      ]
     },
     "execution_count": 9,
     "metadata": {},
     "output_type": "execute_result"
    }
   ],
   "source": [
    "df_pol.dtypes"
   ]
  },
  {
   "cell_type": "code",
   "execution_count": 10,
   "metadata": {},
   "outputs": [
    {
     "data": {
      "text/plain": [
       "clmno          object\n",
       "pol_year        int64\n",
       "region         object\n",
       "pol_no         object\n",
       "usage_type     object\n",
       "coverage       object\n",
       "ultloss       float64\n",
       "acc_year        int64\n",
       "dtype: object"
      ]
     },
     "execution_count": 10,
     "metadata": {},
     "output_type": "execute_result"
    }
   ],
   "source": [
    "df_clm.dtypes"
   ]
  },
  {
   "cell_type": "markdown",
   "metadata": {},
   "source": [
    "#2.0 数据基础校验"
   ]
  },
  {
   "cell_type": "code",
   "execution_count": 11,
   "metadata": {},
   "outputs": [
    {
     "name": "stdout",
     "output_type": "stream",
     "text": [
      "There are 0 records in policy dataset with duplicated policy no\n"
     ]
    }
   ],
   "source": [
    "#2.1 检验保单库中的保单号是否有重复，并且输出重复项\n",
    "print (\"There are %s records in policy dataset with duplicated policy no\"%df_pol.duplicated('pol_no').sum())"
   ]
  },
  {
   "cell_type": "code",
   "execution_count": 12,
   "metadata": {},
   "outputs": [
    {
     "name": "stdout",
     "output_type": "stream",
     "text": [
      "保单号的长度为[11]\n"
     ]
    }
   ],
   "source": [
    "#2.2 检查保单号是否一样长\n",
    "pol_length = df_pol.pol_no.map(lambda x: len(np.str(x)))\n",
    "print (\"保单号的长度为%s\"%pol_length.unique())"
   ]
  },
  {
   "cell_type": "code",
   "execution_count": 13,
   "metadata": {},
   "outputs": [
    {
     "name": "stdout",
     "output_type": "stream",
     "text": [
      "There are 0 records in claim dataset with duplicated claim no\n"
     ]
    }
   ],
   "source": [
    "#2.3 检查赔案号是否有重复\n",
    "print (\"There are %s records in claim dataset with duplicated claim no\"%df_clm.duplicated('clmno').sum())"
   ]
  },
  {
   "cell_type": "code",
   "execution_count": 14,
   "metadata": {},
   "outputs": [
    {
     "name": "stdout",
     "output_type": "stream",
     "text": [
      "There are 29221 records in claim dataset\n",
      "There are 7709 records in claim dataset with duplicated policy no\n",
      "After removing all the duplicated claims, there are 21512 left\n"
     ]
    }
   ],
   "source": [
    "#2.4 提取具有相同保单号的赔案\n",
    "print (\"There are %s records in claim dataset\"%df_clm.shape[0])\n",
    "print (\"There are %s records in claim dataset with duplicated policy no\"%df_clm.duplicated('pol_no').sum())\n",
    "print (\"After removing all the duplicated claims, there are %s left\"%df_clm.drop_duplicates('pol_no').shape[0])"
   ]
  },
  {
   "cell_type": "code",
   "execution_count": 15,
   "metadata": {
    "scrolled": true
   },
   "outputs": [
    {
     "name": "stdout",
     "output_type": "stream",
     "text": [
      "The number of records in the combined data is 57709\n",
      "The number of records with different EFFY is 0\n",
      "The number of records with different REGION is 0\n",
      "The number of records with different VEC13 is 0\n",
      "The number of records with different LOB is 0\n",
      "保单库同理赔库中的保单基本信息保持一致。\n"
     ]
    }
   ],
   "source": [
    "#2.5 检验保单库和赔案库里的保单信息是否一致\n",
    "df_pol_clm = pd.merge(df_pol,df_clm,on=['pol_no'],how='left')\n",
    "print (\"The number of records in the combined data is %s\"%df_pol_clm.shape[0])\n",
    "print (\"The number of records with different EFFY is %s\"%df_pol_clm.loc[df_pol_clm[(df_pol_clm.clmno.isnull()==False)&(df_pol_clm.pol_year_x!=df_pol_clm.pol_year_y)].index].shape[0])\n",
    "print (\"The number of records with different REGION is %s\"%df_pol_clm.loc[df_pol_clm[(df_pol_clm.clmno.isnull()==False)&(df_pol_clm.region_x!=df_pol_clm.region_y)].index].shape[0])\n",
    "print (\"The number of records with different VEC13 is %s\"%df_pol_clm.loc[df_pol_clm[(df_pol_clm.clmno.isnull()==False)&(df_pol_clm.usage_type_x!=df_pol_clm.usage_type_y)].index].shape[0])\n",
    "print (\"The number of records with different LOB is %s\"%df_pol_clm.loc[df_pol_clm[(df_pol_clm.clmno.isnull()==False)&(df_pol_clm.coverage_x!=df_pol_clm.coverage_y)].index].shape[0])\n",
    "print (\"保单库同理赔库中的保单基本信息保持一致。\")"
   ]
  },
  {
   "cell_type": "code",
   "execution_count": 16,
   "metadata": {
    "scrolled": true
   },
   "outputs": [
    {
     "data": {
      "text/html": [
       "<div>\n",
       "<style scoped>\n",
       "    .dataframe tbody tr th:only-of-type {\n",
       "        vertical-align: middle;\n",
       "    }\n",
       "\n",
       "    .dataframe tbody tr th {\n",
       "        vertical-align: top;\n",
       "    }\n",
       "\n",
       "    .dataframe thead th {\n",
       "        text-align: right;\n",
       "    }\n",
       "</style>\n",
       "<table border=\"1\" class=\"dataframe\">\n",
       "  <thead>\n",
       "    <tr style=\"text-align: right;\">\n",
       "      <th></th>\n",
       "      <th>pol_no</th>\n",
       "      <th>usage_type_x</th>\n",
       "      <th>coverage_x</th>\n",
       "      <th>ncd_reason</th>\n",
       "      <th>pol_year_x</th>\n",
       "      <th>region_x</th>\n",
       "      <th>gender</th>\n",
       "      <th>insured_age</th>\n",
       "      <th>veh_age_c</th>\n",
       "      <th>veh_code</th>\n",
       "      <th>...</th>\n",
       "      <th>premium_ori</th>\n",
       "      <th>premium_new</th>\n",
       "      <th>renew_year</th>\n",
       "      <th>clmno</th>\n",
       "      <th>pol_year_y</th>\n",
       "      <th>region_y</th>\n",
       "      <th>usage_type_y</th>\n",
       "      <th>coverage_y</th>\n",
       "      <th>ultloss</th>\n",
       "      <th>acc_year</th>\n",
       "    </tr>\n",
       "  </thead>\n",
       "  <tbody>\n",
       "    <tr>\n",
       "      <th>0</th>\n",
       "      <td>2011OC00001</td>\n",
       "      <td>private</td>\n",
       "      <td>PD</td>\n",
       "      <td>0_F</td>\n",
       "      <td>2011</td>\n",
       "      <td>region_3</td>\n",
       "      <td>F</td>\n",
       "      <td>26.0</td>\n",
       "      <td>VAGEC&lt;0.9</td>\n",
       "      <td>VTVZTNCX6669</td>\n",
       "      <td>...</td>\n",
       "      <td>5640.0324</td>\n",
       "      <td>5543.598552</td>\n",
       "      <td>0</td>\n",
       "      <td>CLM2011100000002</td>\n",
       "      <td>2011.0</td>\n",
       "      <td>region_3</td>\n",
       "      <td>private</td>\n",
       "      <td>PD</td>\n",
       "      <td>4509.826774</td>\n",
       "      <td>2011.0</td>\n",
       "    </tr>\n",
       "    <tr>\n",
       "      <th>1</th>\n",
       "      <td>2011OC00002</td>\n",
       "      <td>private</td>\n",
       "      <td>PD</td>\n",
       "      <td>0_E</td>\n",
       "      <td>2011</td>\n",
       "      <td>region_3</td>\n",
       "      <td>M</td>\n",
       "      <td>39.0</td>\n",
       "      <td>VAGEC&lt;1.9</td>\n",
       "      <td>VMIUMCCW6668</td>\n",
       "      <td>...</td>\n",
       "      <td>9654.3144</td>\n",
       "      <td>10738.602922</td>\n",
       "      <td>0</td>\n",
       "      <td>NaN</td>\n",
       "      <td>NaN</td>\n",
       "      <td>NaN</td>\n",
       "      <td>NaN</td>\n",
       "      <td>NaN</td>\n",
       "      <td>NaN</td>\n",
       "      <td>NaN</td>\n",
       "    </tr>\n",
       "    <tr>\n",
       "      <th>2</th>\n",
       "      <td>2011OA00003</td>\n",
       "      <td>private</td>\n",
       "      <td>PD</td>\n",
       "      <td>1</td>\n",
       "      <td>2011</td>\n",
       "      <td>region_1</td>\n",
       "      <td>M</td>\n",
       "      <td>39.0</td>\n",
       "      <td>VAGEC&lt;4.9</td>\n",
       "      <td>VMLVYBCW6660</td>\n",
       "      <td>...</td>\n",
       "      <td>6597.7800</td>\n",
       "      <td>7777.834560</td>\n",
       "      <td>2</td>\n",
       "      <td>CLM2011100000008</td>\n",
       "      <td>2011.0</td>\n",
       "      <td>region_1</td>\n",
       "      <td>private</td>\n",
       "      <td>PD</td>\n",
       "      <td>2326.435493</td>\n",
       "      <td>2011.0</td>\n",
       "    </tr>\n",
       "    <tr>\n",
       "      <th>3</th>\n",
       "      <td>2011ON00004</td>\n",
       "      <td>private</td>\n",
       "      <td>PD</td>\n",
       "      <td>0_F</td>\n",
       "      <td>2011</td>\n",
       "      <td>region_14</td>\n",
       "      <td>M</td>\n",
       "      <td>35.0</td>\n",
       "      <td>VAGEC&lt;0.9</td>\n",
       "      <td>VVNVRGCX6698</td>\n",
       "      <td>...</td>\n",
       "      <td>19882.4880</td>\n",
       "      <td>19692.205320</td>\n",
       "      <td>0</td>\n",
       "      <td>CLM2012100000009</td>\n",
       "      <td>2011.0</td>\n",
       "      <td>region_14</td>\n",
       "      <td>private</td>\n",
       "      <td>PD</td>\n",
       "      <td>20891.460269</td>\n",
       "      <td>2012.0</td>\n",
       "    </tr>\n",
       "    <tr>\n",
       "      <th>4</th>\n",
       "      <td>2011OA00005</td>\n",
       "      <td>private</td>\n",
       "      <td>PD</td>\n",
       "      <td>0_D</td>\n",
       "      <td>2011</td>\n",
       "      <td>region_1</td>\n",
       "      <td>M</td>\n",
       "      <td>45.0</td>\n",
       "      <td>VAGEC&lt;4.9</td>\n",
       "      <td>VXZLEBCV6669</td>\n",
       "      <td>...</td>\n",
       "      <td>3321.3288</td>\n",
       "      <td>2859.032526</td>\n",
       "      <td>3</td>\n",
       "      <td>NaN</td>\n",
       "      <td>NaN</td>\n",
       "      <td>NaN</td>\n",
       "      <td>NaN</td>\n",
       "      <td>NaN</td>\n",
       "      <td>NaN</td>\n",
       "      <td>NaN</td>\n",
       "    </tr>\n",
       "  </tbody>\n",
       "</table>\n",
       "<p>5 rows × 28 columns</p>\n",
       "</div>"
      ],
      "text/plain": [
       "        pol_no usage_type_x coverage_x ncd_reason  pol_year_x   region_x  \\\n",
       "0  2011OC00001      private         PD        0_F        2011   region_3   \n",
       "1  2011OC00002      private         PD        0_E        2011   region_3   \n",
       "2  2011OA00003      private         PD          1        2011   region_1   \n",
       "3  2011ON00004      private         PD        0_F        2011  region_14   \n",
       "4  2011OA00005      private         PD        0_D        2011   region_1   \n",
       "\n",
       "  gender  insured_age  veh_age_c      veh_code    ...    premium_ori  \\\n",
       "0      F         26.0  VAGEC<0.9  VTVZTNCX6669    ...      5640.0324   \n",
       "1      M         39.0  VAGEC<1.9  VMIUMCCW6668    ...      9654.3144   \n",
       "2      M         39.0  VAGEC<4.9  VMLVYBCW6660    ...      6597.7800   \n",
       "3      M         35.0  VAGEC<0.9  VVNVRGCX6698    ...     19882.4880   \n",
       "4      M         45.0  VAGEC<4.9  VXZLEBCV6669    ...      3321.3288   \n",
       "\n",
       "    premium_new renew_year             clmno  pol_year_y   region_y  \\\n",
       "0   5543.598552          0  CLM2011100000002      2011.0   region_3   \n",
       "1  10738.602922          0               NaN         NaN        NaN   \n",
       "2   7777.834560          2  CLM2011100000008      2011.0   region_1   \n",
       "3  19692.205320          0  CLM2012100000009      2011.0  region_14   \n",
       "4   2859.032526          3               NaN         NaN        NaN   \n",
       "\n",
       "   usage_type_y coverage_y       ultloss  acc_year  \n",
       "0       private         PD   4509.826774    2011.0  \n",
       "1           NaN        NaN           NaN       NaN  \n",
       "2       private         PD   2326.435493    2011.0  \n",
       "3       private         PD  20891.460269    2012.0  \n",
       "4           NaN        NaN           NaN       NaN  \n",
       "\n",
       "[5 rows x 28 columns]"
      ]
     },
     "execution_count": 16,
     "metadata": {},
     "output_type": "execute_result"
    }
   ],
   "source": [
    "df_pol_clm.head()"
   ]
  },
  {
   "cell_type": "code",
   "execution_count": 17,
   "metadata": {},
   "outputs": [
    {
     "data": {
      "text/html": [
       "<div>\n",
       "<style scoped>\n",
       "    .dataframe tbody tr th:only-of-type {\n",
       "        vertical-align: middle;\n",
       "    }\n",
       "\n",
       "    .dataframe tbody tr th {\n",
       "        vertical-align: top;\n",
       "    }\n",
       "\n",
       "    .dataframe thead th {\n",
       "        text-align: right;\n",
       "    }\n",
       "</style>\n",
       "<table border=\"1\" class=\"dataframe\">\n",
       "  <thead>\n",
       "    <tr style=\"text-align: right;\">\n",
       "      <th></th>\n",
       "      <th>clmno</th>\n",
       "      <th>pol_year</th>\n",
       "      <th>region</th>\n",
       "      <th>pol_no</th>\n",
       "      <th>usage_type</th>\n",
       "      <th>coverage</th>\n",
       "      <th>ultloss</th>\n",
       "      <th>acc_year</th>\n",
       "    </tr>\n",
       "  </thead>\n",
       "  <tbody>\n",
       "    <tr>\n",
       "      <th>0</th>\n",
       "      <td>CLM2011100000008</td>\n",
       "      <td>2011</td>\n",
       "      <td>region_1</td>\n",
       "      <td>2011OA00003</td>\n",
       "      <td>private</td>\n",
       "      <td>PD</td>\n",
       "      <td>2326.435493</td>\n",
       "      <td>2011</td>\n",
       "    </tr>\n",
       "    <tr>\n",
       "      <th>1</th>\n",
       "      <td>CLM2011200000006</td>\n",
       "      <td>2011</td>\n",
       "      <td>region_1</td>\n",
       "      <td>2011OA00009</td>\n",
       "      <td>private</td>\n",
       "      <td>PD</td>\n",
       "      <td>1300.631023</td>\n",
       "      <td>2011</td>\n",
       "    </tr>\n",
       "    <tr>\n",
       "      <th>2</th>\n",
       "      <td>CLM2011100000028</td>\n",
       "      <td>2011</td>\n",
       "      <td>region_1</td>\n",
       "      <td>2011OA00012</td>\n",
       "      <td>private</td>\n",
       "      <td>PD</td>\n",
       "      <td>2501.326951</td>\n",
       "      <td>2011</td>\n",
       "    </tr>\n",
       "    <tr>\n",
       "      <th>3</th>\n",
       "      <td>CLM2011100000110</td>\n",
       "      <td>2011</td>\n",
       "      <td>region_1</td>\n",
       "      <td>2011OA00056</td>\n",
       "      <td>private</td>\n",
       "      <td>PD</td>\n",
       "      <td>4573.544265</td>\n",
       "      <td>2011</td>\n",
       "    </tr>\n",
       "    <tr>\n",
       "      <th>4</th>\n",
       "      <td>CLM2011100000127</td>\n",
       "      <td>2011</td>\n",
       "      <td>region_1</td>\n",
       "      <td>2011OA00069</td>\n",
       "      <td>private</td>\n",
       "      <td>PD</td>\n",
       "      <td>6128.496465</td>\n",
       "      <td>2011</td>\n",
       "    </tr>\n",
       "  </tbody>\n",
       "</table>\n",
       "</div>"
      ],
      "text/plain": [
       "              clmno  pol_year    region       pol_no usage_type coverage  \\\n",
       "0  CLM2011100000008      2011  region_1  2011OA00003    private       PD   \n",
       "1  CLM2011200000006      2011  region_1  2011OA00009    private       PD   \n",
       "2  CLM2011100000028      2011  region_1  2011OA00012    private       PD   \n",
       "3  CLM2011100000110      2011  region_1  2011OA00056    private       PD   \n",
       "4  CLM2011100000127      2011  region_1  2011OA00069    private       PD   \n",
       "\n",
       "       ultloss  acc_year  \n",
       "0  2326.435493      2011  \n",
       "1  1300.631023      2011  \n",
       "2  2501.326951      2011  \n",
       "3  4573.544265      2011  \n",
       "4  6128.496465      2011  "
      ]
     },
     "execution_count": 17,
     "metadata": {},
     "output_type": "execute_result"
    }
   ],
   "source": [
    "df_clm.head()"
   ]
  },
  {
   "cell_type": "code",
   "execution_count": 18,
   "metadata": {},
   "outputs": [
    {
     "name": "stdout",
     "output_type": "stream",
     "text": [
      "The number of records with claim amount <=0 is 0\n"
     ]
    },
    {
     "data": {
      "text/html": [
       "<div>\n",
       "<style scoped>\n",
       "    .dataframe tbody tr th:only-of-type {\n",
       "        vertical-align: middle;\n",
       "    }\n",
       "\n",
       "    .dataframe tbody tr th {\n",
       "        vertical-align: top;\n",
       "    }\n",
       "\n",
       "    .dataframe thead th {\n",
       "        text-align: right;\n",
       "    }\n",
       "</style>\n",
       "<table border=\"1\" class=\"dataframe\">\n",
       "  <thead>\n",
       "    <tr style=\"text-align: right;\">\n",
       "      <th></th>\n",
       "      <th>clmno</th>\n",
       "      <th>pol_year</th>\n",
       "      <th>region</th>\n",
       "      <th>pol_no</th>\n",
       "      <th>usage_type</th>\n",
       "      <th>coverage</th>\n",
       "      <th>ultloss</th>\n",
       "      <th>acc_year</th>\n",
       "    </tr>\n",
       "  </thead>\n",
       "  <tbody>\n",
       "  </tbody>\n",
       "</table>\n",
       "</div>"
      ],
      "text/plain": [
       "Empty DataFrame\n",
       "Columns: [clmno, pol_year, region, pol_no, usage_type, coverage, ultloss, acc_year]\n",
       "Index: []"
      ]
     },
     "execution_count": 18,
     "metadata": {},
     "output_type": "execute_result"
    }
   ],
   "source": [
    "#2.6 检验是否赔款都大于0\n",
    "print (\"The number of records with claim amount <=0 is %s\"%df_clm[df_clm.ultloss<=0].shape[0])\n",
    "df_clm[df_clm.ultloss<=0]"
   ]
  },
  {
   "cell_type": "code",
   "execution_count": 19,
   "metadata": {},
   "outputs": [
    {
     "data": {
      "text/plain": [
       "{'whiskers': [<matplotlib.lines.Line2D at 0x1a28b4d1a58>,\n",
       "  <matplotlib.lines.Line2D at 0x1a28b4d1ef0>],\n",
       " 'caps': [<matplotlib.lines.Line2D at 0x1a28b4e1358>,\n",
       "  <matplotlib.lines.Line2D at 0x1a28b4e1780>],\n",
       " 'boxes': [<matplotlib.lines.Line2D at 0x1a28b4d1908>],\n",
       " 'medians': [<matplotlib.lines.Line2D at 0x1a28b4e1ba8>],\n",
       " 'fliers': [<matplotlib.lines.Line2D at 0x1a28b4e1fd0>],\n",
       " 'means': []}"
      ]
     },
     "execution_count": 19,
     "metadata": {},
     "output_type": "execute_result"
    },
    {
     "data": {
      "image/png": "[encoded data removed]",
      "text/plain": [
       "<Figure size 432x288 with 1 Axes>"
      ]
     },
     "metadata": {},
     "output_type": "display_data"
    }
   ],
   "source": [
    "plt.boxplot(df_clm.ultloss,sym='r+',whis=[5,95],meanline=True)"
   ]
  },
  {
   "cell_type": "code",
   "execution_count": 20,
   "metadata": {},
   "outputs": [
    {
     "data": {
      "text/plain": [
       "([<matplotlib.axis.XTick at 0x1a28c7c4c18>,\n",
       "  <matplotlib.axis.XTick at 0x1a28c7c4550>,\n",
       "  <matplotlib.axis.XTick at 0x1a28b104748>,\n",
       "  <matplotlib.axis.XTick at 0x1a28cb05e48>,\n",
       "  <matplotlib.axis.XTick at 0x1a28cb11320>,\n",
       "  <matplotlib.axis.XTick at 0x1a28cb117f0>,\n",
       "  <matplotlib.axis.XTick at 0x1a28cb11cf8>,\n",
       "  <matplotlib.axis.XTick at 0x1a28cb19240>],\n",
       " <a list of 8 Text xticklabel objects>)"
      ]
     },
     "execution_count": 20,
     "metadata": {},
     "output_type": "execute_result"
    },
    {
     "data": {
      "image/png": "[encoded data removed]",
      "text/plain": [
       "<Figure size 432x288 with 1 Axes>"
      ]
     },
     "metadata": {},
     "output_type": "display_data"
    }
   ],
   "source": [
    "plt.hist(df_clm.ultloss,bins=100)\n",
    "plt.xticks([0,10000,20000,30000,40000,50000,60000,70000],rotation=45)"
   ]
  },
  {
   "cell_type": "code",
   "execution_count": 21,
   "metadata": {},
   "outputs": [
    {
     "data": {
      "text/plain": [
       "(array([1.000e+00, 0.000e+00, 0.000e+00, 1.000e+00, 0.000e+00, 0.000e+00,\n",
       "        0.000e+00, 1.000e+00, 1.000e+00, 1.000e+00, 0.000e+00, 0.000e+00,\n",
       "        1.000e+00, 1.000e+00, 0.000e+00, 1.000e+00, 1.000e+00, 7.000e+00,\n",
       "        5.000e+00, 3.000e+00, 6.000e+00, 9.000e+00, 1.100e+01, 6.000e+00,\n",
       "        1.400e+01, 1.100e+01, 7.000e+00, 1.300e+01, 1.900e+01, 2.200e+01,\n",
       "        3.900e+01, 2.800e+01, 3.700e+01, 3.600e+01, 5.800e+01, 5.400e+01,\n",
       "        7.600e+01, 7.400e+01, 8.500e+01, 8.300e+01, 1.160e+02, 1.250e+02,\n",
       "        1.420e+02, 1.520e+02, 1.650e+02, 2.310e+02, 2.220e+02, 2.760e+02,\n",
       "        3.090e+02, 3.540e+02, 3.990e+02, 4.550e+02, 4.860e+02, 5.970e+02,\n",
       "        6.790e+02, 6.840e+02, 7.900e+02, 8.050e+02, 9.440e+02, 9.670e+02,\n",
       "        1.018e+03, 1.124e+03, 1.097e+03, 1.121e+03, 1.151e+03, 1.174e+03,\n",
       "        1.215e+03, 1.237e+03, 1.118e+03, 1.145e+03, 1.078e+03, 9.640e+02,\n",
       "        8.970e+02, 8.130e+02, 7.340e+02, 5.880e+02, 5.120e+02, 4.880e+02,\n",
       "        3.750e+02, 3.530e+02, 2.630e+02, 2.360e+02, 1.620e+02, 1.450e+02,\n",
       "        1.210e+02, 8.100e+01, 9.000e+01, 8.500e+01, 5.100e+01, 3.700e+01,\n",
       "        3.000e+01, 3.200e+01, 1.900e+01, 2.200e+01, 9.000e+00, 7.000e+00,\n",
       "        8.000e+00, 6.000e+00, 3.000e+00, 2.000e+00]),\n",
       " array([ 0.849994  ,  0.95513313,  1.06027226,  1.16541139,  1.27055052,\n",
       "         1.37568965,  1.48082877,  1.5859679 ,  1.69110703,  1.79624616,\n",
       "         1.90138529,  2.00652442,  2.11166354,  2.21680267,  2.3219418 ,\n",
       "         2.42708093,  2.53222006,  2.63735919,  2.74249831,  2.84763744,\n",
       "         2.95277657,  3.0579157 ,  3.16305483,  3.26819396,  3.37333309,\n",
       "         3.47847221,  3.58361134,  3.68875047,  3.7938896 ,  3.89902873,\n",
       "         4.00416786,  4.10930698,  4.21444611,  4.31958524,  4.42472437,\n",
       "         4.5298635 ,  4.63500263,  4.74014175,  4.84528088,  4.95042001,\n",
       "         5.05555914,  5.16069827,  5.2658374 ,  5.37097652,  5.47611565,\n",
       "         5.58125478,  5.68639391,  5.79153304,  5.89667217,  6.0018113 ,\n",
       "         6.10695042,  6.21208955,  6.31722868,  6.42236781,  6.52750694,\n",
       "         6.63264607,  6.73778519,  6.84292432,  6.94806345,  7.05320258,\n",
       "         7.15834171,  7.26348084,  7.36861996,  7.47375909,  7.57889822,\n",
       "         7.68403735,  7.78917648,  7.89431561,  7.99945473,  8.10459386,\n",
       "         8.20973299,  8.31487212,  8.42001125,  8.52515038,  8.6302895 ,\n",
       "         8.73542863,  8.84056776,  8.94570689,  9.05084602,  9.15598515,\n",
       "         9.26112428,  9.3662634 ,  9.47140253,  9.57654166,  9.68168079,\n",
       "         9.78681992,  9.89195905,  9.99709817, 10.1022373 , 10.20737643,\n",
       "        10.31251556, 10.41765469, 10.52279382, 10.62793294, 10.73307207,\n",
       "        10.8382112 , 10.94335033, 11.04848946, 11.15362859, 11.25876771,\n",
       "        11.36390684]),\n",
       " <a list of 100 Patch objects>)"
      ]
     },
     "execution_count": 21,
     "metadata": {},
     "output_type": "execute_result"
    },
    {
     "data": {
      "image/png": "[encoded data removed]",
      "text/plain": [
       "<Figure size 432x288 with 1 Axes>"
      ]
     },
     "metadata": {},
     "output_type": "display_data"
    }
   ],
   "source": [
    "plt.hist(np.log1p(df_clm.ultloss),bins=100)\n",
    "#plt.xticks([0,10000,20000,30000,40000,50000,60000,70000],rotation=45)"
   ]
  },
  {
   "cell_type": "code",
   "execution_count": 22,
   "metadata": {},
   "outputs": [
    {
     "name": "stdout",
     "output_type": "stream",
     "text": [
      "The number of records with claim amount greater than sum insured is 0\n"
     ]
    },
    {
     "data": {
      "text/html": [
       "<div>\n",
       "<style scoped>\n",
       "    .dataframe tbody tr th:only-of-type {\n",
       "        vertical-align: middle;\n",
       "    }\n",
       "\n",
       "    .dataframe tbody tr th {\n",
       "        vertical-align: top;\n",
       "    }\n",
       "\n",
       "    .dataframe thead th {\n",
       "        text-align: right;\n",
       "    }\n",
       "</style>\n",
       "<table border=\"1\" class=\"dataframe\">\n",
       "  <thead>\n",
       "    <tr style=\"text-align: right;\">\n",
       "      <th></th>\n",
       "      <th>pol_no</th>\n",
       "      <th>usage_type_x</th>\n",
       "      <th>coverage_x</th>\n",
       "      <th>ncd_reason</th>\n",
       "      <th>pol_year_x</th>\n",
       "      <th>region_x</th>\n",
       "      <th>gender</th>\n",
       "      <th>insured_age</th>\n",
       "      <th>veh_age_c</th>\n",
       "      <th>veh_code</th>\n",
       "      <th>...</th>\n",
       "      <th>premium_ori</th>\n",
       "      <th>premium_new</th>\n",
       "      <th>renew_year</th>\n",
       "      <th>clmno</th>\n",
       "      <th>pol_year_y</th>\n",
       "      <th>region_y</th>\n",
       "      <th>usage_type_y</th>\n",
       "      <th>coverage_y</th>\n",
       "      <th>ultloss</th>\n",
       "      <th>acc_year</th>\n",
       "    </tr>\n",
       "  </thead>\n",
       "  <tbody>\n",
       "  </tbody>\n",
       "</table>\n",
       "<p>0 rows × 28 columns</p>\n",
       "</div>"
      ],
      "text/plain": [
       "Empty DataFrame\n",
       "Columns: [pol_no, usage_type_x, coverage_x, ncd_reason, pol_year_x, region_x, gender, insured_age, veh_age_c, veh_code, import_ind, veh_brand, veh_class, veh_series, veh_price, veh_seat, wr_year, nodc_ind, premium_ori, premium_new, renew_year, clmno, pol_year_y, region_y, usage_type_y, coverage_y, ultloss, acc_year]\n",
       "Index: []\n",
       "\n",
       "[0 rows x 28 columns]"
      ]
     },
     "execution_count": 22,
     "metadata": {},
     "output_type": "execute_result"
    }
   ],
   "source": [
    "#2.7 检验是否赔款都不大于新车购置价\n",
    "print (\"The number of records with claim amount greater than sum insured is %s\"%df_pol_clm[df_pol_clm.ultloss > df_pol_clm.veh_price].shape[0])\n",
    "df_pol_clm[df_pol_clm.ultloss > df_pol_clm.veh_price]"
   ]
  },
  {
   "cell_type": "code",
   "execution_count": 23,
   "metadata": {},
   "outputs": [
    {
     "name": "stdout",
     "output_type": "stream",
     "text": [
      "The number of records of policy data not in year 2011/2012/2013/2014 is 0\n",
      "The number of records of claim data not in year 2011/2012/2013/2014 is 0\n"
     ]
    }
   ],
   "source": [
    "#2.8 检验起保年度和出险年度是否有异常值\n",
    "print (\"The number of records of policy data not in year 2011/2012/2013/2014 is %s\"%df_pol.pol_year.map(lambda x: 1 if x not in [2011,2012,2013,2014] else 0).sum())\n",
    "print (\"The number of records of claim data not in year 2011/2012/2013/2014 is %s\"%df_clm.pol_year.map(lambda x: 1 if x not in [2011,2012,2013,2014] else 0).sum())"
   ]
  },
  {
   "cell_type": "code",
   "execution_count": 24,
   "metadata": {},
   "outputs": [
    {
     "data": {
      "text/plain": [
       "([<matplotlib.axis.XTick at 0x1a28ccd7a20>,\n",
       "  <matplotlib.axis.XTick at 0x1a28c7a2630>,\n",
       "  <matplotlib.axis.XTick at 0x1a28cc925f8>,\n",
       "  <matplotlib.axis.XTick at 0x1a28ce8a358>],\n",
       " <a list of 4 Text xticklabel objects>)"
      ]
     },
     "execution_count": 24,
     "metadata": {},
     "output_type": "execute_result"
    },
    {
     "data": {
      "image/png": "[encoded data removed]",
      "text/plain": [
       "<Figure size 432x288 with 1 Axes>"
      ]
     },
     "metadata": {},
     "output_type": "display_data"
    }
   ],
   "source": [
    "plt.hist(df_pol.pol_year)\n",
    "plt.xticks([2011,2012,2013,2014])"
   ]
  },
  {
   "cell_type": "code",
   "execution_count": 25,
   "metadata": {},
   "outputs": [
    {
     "name": "stdout",
     "output_type": "stream",
     "text": [
      "The number of records of pol_year later than acc_year is 0\n"
     ]
    }
   ],
   "source": [
    "#2.9 检验是否存在起保年度晚于出险年度的异常情况\n",
    "print (\"The number of records of pol_year later than acc_year is %s\"%df_clm[df_clm.pol_year > df_clm.acc_year].shape[0])"
   ]
  },
  {
   "cell_type": "code",
   "execution_count": 26,
   "metadata": {},
   "outputs": [
    {
     "data": {
      "text/plain": [
       "41"
      ]
     },
     "execution_count": 26,
     "metadata": {},
     "output_type": "execute_result"
    }
   ],
   "source": [
    "#2.10 检验车主年龄是否存在小于18或者大于70的情况\n",
    "df_pol[(df_pol.insured_age < 18)|(df_pol.insured_age > 70)].shape[0]"
   ]
  },
  {
   "cell_type": "code",
   "execution_count": 27,
   "metadata": {},
   "outputs": [
    {
     "data": {
      "text/plain": [
       "M    36023\n",
       "F    13714\n",
       "Name: gender, dtype: int64"
      ]
     },
     "execution_count": 27,
     "metadata": {},
     "output_type": "execute_result"
    }
   ],
   "source": [
    "#2.11 检验车主性别是否有异常值（非“男”和“女”）\n",
    "df_pol.gender.value_counts()"
   ]
  },
  {
   "cell_type": "markdown",
   "metadata": {},
   "source": [
    "#3.0 数据口径校验"
   ]
  },
  {
   "cell_type": "code",
   "execution_count": 28,
   "metadata": {},
   "outputs": [
    {
     "data": {
      "text/html": [
       "<div>\n",
       "<style scoped>\n",
       "    .dataframe tbody tr th:only-of-type {\n",
       "        vertical-align: middle;\n",
       "    }\n",
       "\n",
       "    .dataframe tbody tr th {\n",
       "        vertical-align: top;\n",
       "    }\n",
       "\n",
       "    .dataframe thead tr th {\n",
       "        text-align: left;\n",
       "    }\n",
       "</style>\n",
       "<table border=\"1\" class=\"dataframe\">\n",
       "  <thead>\n",
       "    <tr>\n",
       "      <th></th>\n",
       "      <th>pol_year</th>\n",
       "      <th>pol_no</th>\n",
       "      <th colspan=\"2\" halign=\"left\">premium_ori</th>\n",
       "      <th colspan=\"2\" halign=\"left\">premium_new</th>\n",
       "    </tr>\n",
       "    <tr>\n",
       "      <th></th>\n",
       "      <th></th>\n",
       "      <th>count</th>\n",
       "      <th>sum</th>\n",
       "      <th>mean</th>\n",
       "      <th>sum</th>\n",
       "      <th>mean</th>\n",
       "    </tr>\n",
       "  </thead>\n",
       "  <tbody>\n",
       "    <tr>\n",
       "      <th>0</th>\n",
       "      <td>2011</td>\n",
       "      <td>8752</td>\n",
       "      <td>2.730113e+07</td>\n",
       "      <td>3119.416646</td>\n",
       "      <td>2.804120e+07</td>\n",
       "      <td>3203.975731</td>\n",
       "    </tr>\n",
       "    <tr>\n",
       "      <th>1</th>\n",
       "      <td>2012</td>\n",
       "      <td>11022</td>\n",
       "      <td>3.466118e+07</td>\n",
       "      <td>3144.727339</td>\n",
       "      <td>3.574661e+07</td>\n",
       "      <td>3243.205533</td>\n",
       "    </tr>\n",
       "    <tr>\n",
       "      <th>2</th>\n",
       "      <td>2013</td>\n",
       "      <td>13625</td>\n",
       "      <td>4.316687e+07</td>\n",
       "      <td>3168.210573</td>\n",
       "      <td>4.458316e+07</td>\n",
       "      <td>3272.158530</td>\n",
       "    </tr>\n",
       "    <tr>\n",
       "      <th>3</th>\n",
       "      <td>2014</td>\n",
       "      <td>16601</td>\n",
       "      <td>5.204803e+07</td>\n",
       "      <td>3135.234711</td>\n",
       "      <td>5.348702e+07</td>\n",
       "      <td>3221.915643</td>\n",
       "    </tr>\n",
       "  </tbody>\n",
       "</table>\n",
       "</div>"
      ],
      "text/plain": [
       "  pol_year pol_no   premium_ori                premium_new             \n",
       "            count           sum         mean           sum         mean\n",
       "0     2011   8752  2.730113e+07  3119.416646  2.804120e+07  3203.975731\n",
       "1     2012  11022  3.466118e+07  3144.727339  3.574661e+07  3243.205533\n",
       "2     2013  13625  4.316687e+07  3168.210573  4.458316e+07  3272.158530\n",
       "3     2014  16601  5.204803e+07  3135.234711  5.348702e+07  3221.915643"
      ]
     },
     "execution_count": 28,
     "metadata": {},
     "output_type": "execute_result"
    }
   ],
   "source": [
    "#3.1 根据保单年统计保单数、总保费、平均保费\n",
    "df_pol_grp_year = df_pol.groupby('pol_year',as_index=False)\n",
    "df_pol_grp_year.agg({'pol_no':'count','premium_ori':['sum','mean'],'premium_new':['sum','mean']})"
   ]
  },
  {
   "cell_type": "code",
   "execution_count": 29,
   "metadata": {},
   "outputs": [
    {
     "data": {
      "text/html": [
       "<div>\n",
       "<style scoped>\n",
       "    .dataframe tbody tr th:only-of-type {\n",
       "        vertical-align: middle;\n",
       "    }\n",
       "\n",
       "    .dataframe tbody tr th {\n",
       "        vertical-align: top;\n",
       "    }\n",
       "\n",
       "    .dataframe thead tr th {\n",
       "        text-align: left;\n",
       "    }\n",
       "</style>\n",
       "<table border=\"1\" class=\"dataframe\">\n",
       "  <thead>\n",
       "    <tr>\n",
       "      <th></th>\n",
       "      <th>acc_year</th>\n",
       "      <th>clmno</th>\n",
       "      <th colspan=\"2\" halign=\"left\">ultloss</th>\n",
       "    </tr>\n",
       "    <tr>\n",
       "      <th></th>\n",
       "      <th></th>\n",
       "      <th>count</th>\n",
       "      <th>sum</th>\n",
       "      <th>mean</th>\n",
       "    </tr>\n",
       "  </thead>\n",
       "  <tbody>\n",
       "    <tr>\n",
       "      <th>0</th>\n",
       "      <td>2011</td>\n",
       "      <td>2649</td>\n",
       "      <td>7.726938e+06</td>\n",
       "      <td>2916.926370</td>\n",
       "    </tr>\n",
       "    <tr>\n",
       "      <th>1</th>\n",
       "      <td>2012</td>\n",
       "      <td>6230</td>\n",
       "      <td>1.964686e+07</td>\n",
       "      <td>3153.588304</td>\n",
       "    </tr>\n",
       "    <tr>\n",
       "      <th>2</th>\n",
       "      <td>2013</td>\n",
       "      <td>7458</td>\n",
       "      <td>2.532234e+07</td>\n",
       "      <td>3395.325835</td>\n",
       "    </tr>\n",
       "    <tr>\n",
       "      <th>3</th>\n",
       "      <td>2014</td>\n",
       "      <td>8243</td>\n",
       "      <td>2.935200e+07</td>\n",
       "      <td>3560.840037</td>\n",
       "    </tr>\n",
       "    <tr>\n",
       "      <th>4</th>\n",
       "      <td>2015</td>\n",
       "      <td>4641</td>\n",
       "      <td>1.612802e+07</td>\n",
       "      <td>3475.117915</td>\n",
       "    </tr>\n",
       "  </tbody>\n",
       "</table>\n",
       "</div>"
      ],
      "text/plain": [
       "  acc_year clmno       ultloss             \n",
       "           count           sum         mean\n",
       "0     2011  2649  7.726938e+06  2916.926370\n",
       "1     2012  6230  1.964686e+07  3153.588304\n",
       "2     2013  7458  2.532234e+07  3395.325835\n",
       "3     2014  8243  2.935200e+07  3560.840037\n",
       "4     2015  4641  1.612802e+07  3475.117915"
      ]
     },
     "execution_count": 29,
     "metadata": {},
     "output_type": "execute_result"
    }
   ],
   "source": [
    "#3.2 根据事故年统计赔案件数、赔案总金额\n",
    "df_clm_grp_year = df_clm.groupby('acc_year',as_index=False)\n",
    "df_clm_grp_year.agg({'clmno':'count','ultloss':['sum','mean']})"
   ]
  },
  {
   "cell_type": "markdown",
   "metadata": {},
   "source": [
    "#4.0 数据分布校验"
   ]
  },
  {
   "cell_type": "code",
   "execution_count": 30,
   "metadata": {},
   "outputs": [
    {
     "data": {
      "text/plain": [
       "NaN            272\n",
       "[0, 18)          6\n",
       "[18, 20)       114\n",
       "[20, 25)      2805\n",
       "[25, 30)      7569\n",
       "[30, 35)      9471\n",
       "[35, 40)      9258\n",
       "[40, 45)      8909\n",
       "[45, 50)      6195\n",
       "[50, 55)      3058\n",
       "[55, 60)      1569\n",
       "[60, 75)       759\n",
       "[75, 100)       15\n",
       "[100, 200)       0\n",
       "Name: AgeC, dtype: int64"
      ]
     },
     "execution_count": 30,
     "metadata": {},
     "output_type": "execute_result"
    }
   ],
   "source": [
    "#4.1 年龄离散化\n",
    "w = [0,18,20,25,30,35,40,45,50,55,60,75,100,200]\n",
    "df_pol.loc[:,'AgeC'] = pd.cut(df_pol.insured_age,w,right=False)\n",
    "df_pol.AgeC.value_counts(dropna=False).sort_index()"
   ]
  },
  {
   "cell_type": "code",
   "execution_count": 31,
   "metadata": {},
   "outputs": [
    {
     "data": {
      "text/plain": [
       "[0, 6)     45379\n",
       "[6, 11)     4597\n",
       "NaN           24\n",
       "Name: SeatC, dtype: int64"
      ]
     },
     "execution_count": 31,
     "metadata": {},
     "output_type": "execute_result"
    }
   ],
   "source": [
    "#4.2 座位离散化\n",
    "w = [0,6,11]\n",
    "df_pol.loc[:,'SeatC'] = pd.cut(df_pol.veh_seat,w,right=False)\n",
    "df_pol.SeatC.value_counts(dropna=False)"
   ]
  },
  {
   "cell_type": "code",
   "execution_count": 32,
   "metadata": {},
   "outputs": [
    {
     "data": {
      "text/plain": [
       "[0, 100000)           24474\n",
       "[100000, 150000)      11015\n",
       "[150000, 200000)       6378\n",
       "[200000, 250000)       3299\n",
       "[250000, 300000)       1501\n",
       "[300000, 400000)       1501\n",
       "[400000, 500000)        821\n",
       "[500000, 1000000)       915\n",
       "[1000000, 1500000)       96\n",
       "[1500000, 2000000)        0\n",
       "Name: PRC, dtype: int64"
      ]
     },
     "execution_count": 32,
     "metadata": {},
     "output_type": "execute_result"
    }
   ],
   "source": [
    "#4.2 车价离散化\n",
    "w = [0,100000,150000,200000,250000,300000,400000,500000,1000000,1500000,2000000]\n",
    "df_pol.loc[:,'PRC'] = pd.cut(df_pol.veh_price,w,right=False)\n",
    "df_pol.PRC.value_counts(dropna=False).sort_index()"
   ]
  },
  {
   "cell_type": "code",
   "execution_count": 33,
   "metadata": {},
   "outputs": [
    {
     "data": {
      "text/plain": [
       "count    29221.000000\n",
       "mean      3359.780974\n",
       "std       4544.003599\n",
       "min          1.339633\n",
       "0%           1.339633\n",
       "25%        984.962986\n",
       "50%       2072.599275\n",
       "75%       4021.069169\n",
       "90%       7188.927512\n",
       "95%      10315.451906\n",
       "99%      22559.116169\n",
       "max      86154.307121\n",
       "Name: ultloss, dtype: float64"
      ]
     },
     "execution_count": 33,
     "metadata": {},
     "output_type": "execute_result"
    }
   ],
   "source": [
    "df_pol_clm['ultloss'].describe(percentiles=[0,0.25,0.5,0.75,0.9,0.95,0.99])\n",
    "#课堂问题：为何这里的loss最小值不是1？因为没有loss的合并后都是NaN"
   ]
  },
  {
   "cell_type": "code",
   "execution_count": 34,
   "metadata": {},
   "outputs": [
    {
     "data": {
      "text/plain": [
       "(28488, 28)"
      ]
     },
     "execution_count": 34,
     "metadata": {},
     "output_type": "execute_result"
    }
   ],
   "source": [
    "df_pol_clm[df_pol_clm.ultloss.isnull()==True].shape"
   ]
  },
  {
   "cell_type": "code",
   "execution_count": 35,
   "metadata": {},
   "outputs": [
    {
     "data": {
      "text/plain": [
       "57709"
      ]
     },
     "execution_count": 35,
     "metadata": {},
     "output_type": "execute_result"
    }
   ],
   "source": [
    "28488+29221\n",
    "#和该数据集整体记录条数一致。"
   ]
  },
  {
   "cell_type": "code",
   "execution_count": 36,
   "metadata": {},
   "outputs": [],
   "source": [
    "#Change all NaN to zero\n",
    "df_pol_clm.loc[df_pol_clm[df_pol_clm.ultloss.isnull()==True].index,'ultloss'] = 0"
   ]
  },
  {
   "cell_type": "code",
   "execution_count": 37,
   "metadata": {},
   "outputs": [
    {
     "data": {
      "text/plain": [
       "(28488, 28)"
      ]
     },
     "execution_count": 37,
     "metadata": {},
     "output_type": "execute_result"
    }
   ],
   "source": [
    "df_pol_clm[df_pol_clm.ultloss==0].shape"
   ]
  },
  {
   "cell_type": "code",
   "execution_count": 38,
   "metadata": {},
   "outputs": [
    {
     "data": {
      "text/plain": [
       "([<matplotlib.axis.XTick at 0x1a28cd38fd0>,\n",
       "  <matplotlib.axis.XTick at 0x1a28cd38908>,\n",
       "  <matplotlib.axis.XTick at 0x1a28cd38668>,\n",
       "  <matplotlib.axis.XTick at 0x1a28ce3a518>,\n",
       "  <matplotlib.axis.XTick at 0x1a28ce3a9b0>,\n",
       "  <matplotlib.axis.XTick at 0x1a28ce3ae80>,\n",
       "  <matplotlib.axis.XTick at 0x1a28ce403c8>,\n",
       "  <matplotlib.axis.XTick at 0x1a28ce408d0>],\n",
       " <a list of 8 Text xticklabel objects>)"
      ]
     },
     "execution_count": 38,
     "metadata": {},
     "output_type": "execute_result"
    },
    {
     "data": {
      "image/png": "[encoded data removed]",
      "text/plain": [
       "<Figure size 432x288 with 1 Axes>"
      ]
     },
     "metadata": {},
     "output_type": "display_data"
    }
   ],
   "source": [
    "plt.hist(df_pol_clm.ultloss,bins=100)\n",
    "plt.xticks([0,10000,20000,30000,40000,50000,60000,70000],rotation=45)"
   ]
  },
  {
   "cell_type": "code",
   "execution_count": 39,
   "metadata": {},
   "outputs": [
    {
     "data": {
      "text/plain": [
       "(0, 5000)"
      ]
     },
     "execution_count": 39,
     "metadata": {},
     "output_type": "execute_result"
    },
    {
     "data": {
      "image/png": "[encoded data removed]",
      "text/plain": [
       "<Figure size 432x288 with 1 Axes>"
      ]
     },
     "metadata": {},
     "output_type": "display_data"
    }
   ],
   "source": [
    "plt.hist(np.log1p(df_pol_clm.ultloss),bins=100)\n",
    "plt.ylim(0,5000)"
   ]
  },
  {
   "cell_type": "code",
   "execution_count": 40,
   "metadata": {},
   "outputs": [],
   "source": [
    "def year_split(yrs,eff_acc_year,loss):\n",
    "    loss_return = np.zeros(len(loss))\n",
    "    #print (len(loss))\n",
    "    for i in range(len(eff_acc_year)):\n",
    "        if eff_acc_year[i] == yrs :\n",
    "            loss_return[i] = loss[i]\n",
    "        else:\n",
    "            loss_return[i] = np.nan\n",
    "    #print (len(loss_return))\n",
    "    return loss_return\n",
    "\n",
    "df_pol_clm['2011_eff_ULTLS'] = year_split(2011,df_pol_clm.pol_year_x.values,df_pol_clm.ultloss.values)\n",
    "df_pol_clm['2011_acc_ULTLS'] = year_split(2011,df_pol_clm.acc_year.values,df_pol_clm.ultloss.values)\n",
    "\n",
    "df_pol_clm['2012_eff_ULTLS'] = year_split(2012,df_pol_clm.pol_year_x.values,df_pol_clm.ultloss.values)\n",
    "df_pol_clm['2012_acc_ULTLS'] = year_split(2012,df_pol_clm.acc_year.values,df_pol_clm.ultloss.values)\n",
    "\n",
    "df_pol_clm['2013_eff_ULTLS'] = year_split(2013,df_pol_clm.pol_year_x.values,df_pol_clm.ultloss.values)\n",
    "df_pol_clm['2013_acc_ULTLS'] = year_split(2013,df_pol_clm.acc_year.values,df_pol_clm.ultloss.values)\n",
    "\n",
    "df_pol_clm['2014_eff_ULTLS'] = year_split(2014,df_pol_clm.pol_year_x.values,df_pol_clm.ultloss.values)\n",
    "df_pol_clm['2014_acc_ULTLS'] = year_split(2014,df_pol_clm.acc_year.values,df_pol_clm.ultloss.values)\n",
    "\n",
    "df_pol_clm['2015_eff_ULTLS'] = year_split(2015,df_pol_clm.pol_year_x.values,df_pol_clm.ultloss.values)\n",
    "df_pol_clm['2015_acc_ULTLS'] = year_split(2015,df_pol_clm.acc_year.values,df_pol_clm.ultloss.values)"
   ]
  },
  {
   "cell_type": "code",
   "execution_count": 41,
   "metadata": {},
   "outputs": [
    {
     "data": {
      "text/html": [
       "<div>\n",
       "<style scoped>\n",
       "    .dataframe tbody tr th:only-of-type {\n",
       "        vertical-align: middle;\n",
       "    }\n",
       "\n",
       "    .dataframe tbody tr th {\n",
       "        vertical-align: top;\n",
       "    }\n",
       "\n",
       "    .dataframe thead th {\n",
       "        text-align: right;\n",
       "    }\n",
       "</style>\n",
       "<table border=\"1\" class=\"dataframe\">\n",
       "  <thead>\n",
       "    <tr style=\"text-align: right;\">\n",
       "      <th></th>\n",
       "      <th>2011_eff_ULTLS</th>\n",
       "      <th>2012_eff_ULTLS</th>\n",
       "      <th>2013_eff_ULTLS</th>\n",
       "      <th>2014_eff_ULTLS</th>\n",
       "    </tr>\n",
       "  </thead>\n",
       "  <tbody>\n",
       "    <tr>\n",
       "      <th>count</th>\n",
       "      <td>10353.000000</td>\n",
       "      <td>13013.000000</td>\n",
       "      <td>15737.000000</td>\n",
       "      <td>18606.000000</td>\n",
       "    </tr>\n",
       "    <tr>\n",
       "      <th>mean</th>\n",
       "      <td>1613.969573</td>\n",
       "      <td>1763.453740</td>\n",
       "      <td>1811.707307</td>\n",
       "      <td>1612.816911</td>\n",
       "    </tr>\n",
       "    <tr>\n",
       "      <th>std</th>\n",
       "      <td>3313.944580</td>\n",
       "      <td>3573.915949</td>\n",
       "      <td>4072.739819</td>\n",
       "      <td>3475.968676</td>\n",
       "    </tr>\n",
       "    <tr>\n",
       "      <th>min</th>\n",
       "      <td>0.000000</td>\n",
       "      <td>0.000000</td>\n",
       "      <td>0.000000</td>\n",
       "      <td>0.000000</td>\n",
       "    </tr>\n",
       "    <tr>\n",
       "      <th>10%</th>\n",
       "      <td>0.000000</td>\n",
       "      <td>0.000000</td>\n",
       "      <td>0.000000</td>\n",
       "      <td>0.000000</td>\n",
       "    </tr>\n",
       "    <tr>\n",
       "      <th>25%</th>\n",
       "      <td>0.000000</td>\n",
       "      <td>0.000000</td>\n",
       "      <td>0.000000</td>\n",
       "      <td>0.000000</td>\n",
       "    </tr>\n",
       "    <tr>\n",
       "      <th>50%</th>\n",
       "      <td>340.631367</td>\n",
       "      <td>380.214305</td>\n",
       "      <td>156.602139</td>\n",
       "      <td>0.000000</td>\n",
       "    </tr>\n",
       "    <tr>\n",
       "      <th>75%</th>\n",
       "      <td>2029.172723</td>\n",
       "      <td>2229.436417</td>\n",
       "      <td>2193.990326</td>\n",
       "      <td>1992.234783</td>\n",
       "    </tr>\n",
       "    <tr>\n",
       "      <th>90%</th>\n",
       "      <td>4412.655258</td>\n",
       "      <td>4852.381704</td>\n",
       "      <td>4889.107418</td>\n",
       "      <td>4733.639458</td>\n",
       "    </tr>\n",
       "    <tr>\n",
       "      <th>max</th>\n",
       "      <td>76813.029597</td>\n",
       "      <td>75689.844313</td>\n",
       "      <td>86154.307121</td>\n",
       "      <td>82727.178732</td>\n",
       "    </tr>\n",
       "  </tbody>\n",
       "</table>\n",
       "</div>"
      ],
      "text/plain": [
       "       2011_eff_ULTLS  2012_eff_ULTLS  2013_eff_ULTLS  2014_eff_ULTLS\n",
       "count    10353.000000    13013.000000    15737.000000    18606.000000\n",
       "mean      1613.969573     1763.453740     1811.707307     1612.816911\n",
       "std       3313.944580     3573.915949     4072.739819     3475.968676\n",
       "min          0.000000        0.000000        0.000000        0.000000\n",
       "10%          0.000000        0.000000        0.000000        0.000000\n",
       "25%          0.000000        0.000000        0.000000        0.000000\n",
       "50%        340.631367      380.214305      156.602139        0.000000\n",
       "75%       2029.172723     2229.436417     2193.990326     1992.234783\n",
       "90%       4412.655258     4852.381704     4889.107418     4733.639458\n",
       "max      76813.029597    75689.844313    86154.307121    82727.178732"
      ]
     },
     "execution_count": 41,
     "metadata": {},
     "output_type": "execute_result"
    }
   ],
   "source": [
    "df_pol_clm[['2011_eff_ULTLS','2012_eff_ULTLS','2013_eff_ULTLS','2014_eff_ULTLS']].describe(percentiles=[0.1,0.25,0.5,0.75,0.9])"
   ]
  },
  {
   "cell_type": "code",
   "execution_count": 42,
   "metadata": {},
   "outputs": [
    {
     "data": {
      "text/html": [
       "<div>\n",
       "<style scoped>\n",
       "    .dataframe tbody tr th:only-of-type {\n",
       "        vertical-align: middle;\n",
       "    }\n",
       "\n",
       "    .dataframe tbody tr th {\n",
       "        vertical-align: top;\n",
       "    }\n",
       "\n",
       "    .dataframe thead th {\n",
       "        text-align: right;\n",
       "    }\n",
       "</style>\n",
       "<table border=\"1\" class=\"dataframe\">\n",
       "  <thead>\n",
       "    <tr style=\"text-align: right;\">\n",
       "      <th></th>\n",
       "      <th>2011_acc_ULTLS</th>\n",
       "      <th>2012_acc_ULTLS</th>\n",
       "      <th>2013_acc_ULTLS</th>\n",
       "      <th>2014_acc_ULTLS</th>\n",
       "      <th>2015_acc_ULTLS</th>\n",
       "    </tr>\n",
       "  </thead>\n",
       "  <tbody>\n",
       "    <tr>\n",
       "      <th>count</th>\n",
       "      <td>2649.000000</td>\n",
       "      <td>6230.000000</td>\n",
       "      <td>7458.000000</td>\n",
       "      <td>8243.000000</td>\n",
       "      <td>4641.000000</td>\n",
       "    </tr>\n",
       "    <tr>\n",
       "      <th>mean</th>\n",
       "      <td>2916.926370</td>\n",
       "      <td>3153.588304</td>\n",
       "      <td>3395.325835</td>\n",
       "      <td>3560.840037</td>\n",
       "      <td>3475.117915</td>\n",
       "    </tr>\n",
       "    <tr>\n",
       "      <th>std</th>\n",
       "      <td>3607.536376</td>\n",
       "      <td>4360.348411</td>\n",
       "      <td>4787.304907</td>\n",
       "      <td>4927.383454</td>\n",
       "      <td>4106.427625</td>\n",
       "    </tr>\n",
       "    <tr>\n",
       "      <th>min</th>\n",
       "      <td>11.678712</td>\n",
       "      <td>13.758896</td>\n",
       "      <td>4.282960</td>\n",
       "      <td>1.339633</td>\n",
       "      <td>4.590730</td>\n",
       "    </tr>\n",
       "    <tr>\n",
       "      <th>25%</th>\n",
       "      <td>855.039903</td>\n",
       "      <td>930.020455</td>\n",
       "      <td>983.942968</td>\n",
       "      <td>1027.795235</td>\n",
       "      <td>1112.377777</td>\n",
       "    </tr>\n",
       "    <tr>\n",
       "      <th>50%</th>\n",
       "      <td>1779.703958</td>\n",
       "      <td>1937.669754</td>\n",
       "      <td>2090.627534</td>\n",
       "      <td>2174.175616</td>\n",
       "      <td>2247.135807</td>\n",
       "    </tr>\n",
       "    <tr>\n",
       "      <th>75%</th>\n",
       "      <td>3579.220386</td>\n",
       "      <td>3726.388651</td>\n",
       "      <td>4009.599461</td>\n",
       "      <td>4258.886215</td>\n",
       "      <td>4277.518543</td>\n",
       "    </tr>\n",
       "    <tr>\n",
       "      <th>max</th>\n",
       "      <td>47880.782665</td>\n",
       "      <td>76813.029597</td>\n",
       "      <td>75689.844313</td>\n",
       "      <td>86154.307121</td>\n",
       "      <td>57379.784827</td>\n",
       "    </tr>\n",
       "  </tbody>\n",
       "</table>\n",
       "</div>"
      ],
      "text/plain": [
       "       2011_acc_ULTLS  2012_acc_ULTLS  2013_acc_ULTLS  2014_acc_ULTLS  \\\n",
       "count     2649.000000     6230.000000     7458.000000     8243.000000   \n",
       "mean      2916.926370     3153.588304     3395.325835     3560.840037   \n",
       "std       3607.536376     4360.348411     4787.304907     4927.383454   \n",
       "min         11.678712       13.758896        4.282960        1.339633   \n",
       "25%        855.039903      930.020455      983.942968     1027.795235   \n",
       "50%       1779.703958     1937.669754     2090.627534     2174.175616   \n",
       "75%       3579.220386     3726.388651     4009.599461     4258.886215   \n",
       "max      47880.782665    76813.029597    75689.844313    86154.307121   \n",
       "\n",
       "       2015_acc_ULTLS  \n",
       "count     4641.000000  \n",
       "mean      3475.117915  \n",
       "std       4106.427625  \n",
       "min          4.590730  \n",
       "25%       1112.377777  \n",
       "50%       2247.135807  \n",
       "75%       4277.518543  \n",
       "max      57379.784827  "
      ]
     },
     "execution_count": 42,
     "metadata": {},
     "output_type": "execute_result"
    }
   ],
   "source": [
    "df_pol_clm[['2011_acc_ULTLS','2012_acc_ULTLS','2013_acc_ULTLS','2014_acc_ULTLS','2015_acc_ULTLS']].describe()"
   ]
  },
  {
   "cell_type": "code",
   "execution_count": null,
   "metadata": {},
   "outputs": [],
   "source": []
  }
 ],
 "metadata": {
  "kernelspec": {
   "display_name": "Python 3",
   "language": "python",
   "name": "python3"
  },
  "language_info": {
   "codemirror_mode": {
    "name": "ipython",
    "version": 3
   },
   "file_extension": ".py",
   "mimetype": "text/x-python",
   "name": "python",
   "nbconvert_exporter": "python",
   "pygments_lexer": "ipython3",
   "version": "3.6.5"
  }
 },
 "nbformat": 4,
 "nbformat_minor": 2
}
